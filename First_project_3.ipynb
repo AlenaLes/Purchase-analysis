{
 "cells": [
  {
   "cell_type": "code",
   "execution_count": 1,
   "metadata": {},
   "outputs": [],
   "source": [
    "import pandas as pd\n",
    "import seaborn as sns\n",
    "import matplotlib.pyplot as plt\n",
    "\n",
    "%matplotlib inline "
   ]
  },
  {
   "cell_type": "code",
   "execution_count": 2,
   "metadata": {},
   "outputs": [],
   "source": [
    "uniq_id_cust= pd.read_csv ('/mnt/HC_Volume_18315164/home-jupyter/jupyter-a-lesihina/first_project/olist_customers_dataset.csv')\n",
    "orders= pd.read_csv ('/mnt/HC_Volume_18315164/home-jupyter/jupyter-a-lesihina/first_project/olist_orders_dataset.csv')\n",
    "items= pd.read_csv ('/mnt/HC_Volume_18315164/home-jupyter/jupyter-a-lesihina/first_project/olist_order_items_dataset.csv')"
   ]
  },
  {
   "cell_type": "code",
   "execution_count": 3,
   "metadata": {},
   "outputs": [],
   "source": [
    "#Задание 3. По каждому товару определить, в какой день недели товар чаще всего покупается. "
   ]
  },
  {
   "cell_type": "code",
   "execution_count": 4,
   "metadata": {},
   "outputs": [],
   "source": [
    "#объединим заказы и продукты для определение времени\n",
    "join_table2= items.merge(orders, how = 'outer', on ='order_id')"
   ]
  },
  {
   "cell_type": "code",
   "execution_count": 5,
   "metadata": {},
   "outputs": [],
   "source": [
    "# привели к формату даты время подтверждения покупки\n",
    "join_table2 ['buying_day'] = pd.to_datetime(join_table2 ['order_approved_at'])"
   ]
  },
  {
   "cell_type": "code",
   "execution_count": 6,
   "metadata": {},
   "outputs": [],
   "source": [
    "# привели к дню недели \n",
    "join_table2 ['buying_day'] = join_table2.buying_day.dt.strftime('%A')"
   ]
  },
  {
   "cell_type": "code",
   "execution_count": 7,
   "metadata": {},
   "outputs": [],
   "source": [
    "# отберем все продажи по всем дням недели,кроме недоступных товаров и неоплаченных\n",
    "all_sales_items = join_table2\\\n",
    "    .query('order_status !=\"unavailable\" or order_status !=\"created\"')\\\n",
    "    .groupby (['product_id','buying_day'])\\\n",
    "    .agg ({'order_id': 'count'}).rank(ascending=False, method='max')"
   ]
  },
  {
   "cell_type": "code",
   "execution_count": 8,
   "metadata": {},
   "outputs": [],
   "source": [
    "all_sales_items = all_sales_items.reset_index()"
   ]
  },
  {
   "cell_type": "code",
   "execution_count": 12,
   "metadata": {},
   "outputs": [
    {
     "data": {
      "text/html": [
       "<div>\n",
       "<style scoped>\n",
       "    .dataframe tbody tr th:only-of-type {\n",
       "        vertical-align: middle;\n",
       "    }\n",
       "\n",
       "    .dataframe tbody tr th {\n",
       "        vertical-align: top;\n",
       "    }\n",
       "\n",
       "    .dataframe thead th {\n",
       "        text-align: right;\n",
       "    }\n",
       "</style>\n",
       "<table border=\"1\" class=\"dataframe\">\n",
       "  <thead>\n",
       "    <tr style=\"text-align: right;\">\n",
       "      <th></th>\n",
       "      <th>product_id</th>\n",
       "      <th>buying_day</th>\n",
       "      <th>order_id</th>\n",
       "    </tr>\n",
       "  </thead>\n",
       "  <tbody>\n",
       "    <tr>\n",
       "      <th>0</th>\n",
       "      <td>00066f42aeeb9f3007548bb9d3f33c38</td>\n",
       "      <td>Sunday</td>\n",
       "      <td>61143.0</td>\n",
       "    </tr>\n",
       "    <tr>\n",
       "      <th>1</th>\n",
       "      <td>00088930e925c41fd95ebfe695fd2655</td>\n",
       "      <td>Tuesday</td>\n",
       "      <td>61143.0</td>\n",
       "    </tr>\n",
       "    <tr>\n",
       "      <th>2</th>\n",
       "      <td>0009406fd7479715e4bef61dd91f2462</td>\n",
       "      <td>Friday</td>\n",
       "      <td>61143.0</td>\n",
       "    </tr>\n",
       "    <tr>\n",
       "      <th>3</th>\n",
       "      <td>000b8f95fcb9e0096488278317764d19</td>\n",
       "      <td>Friday</td>\n",
       "      <td>61143.0</td>\n",
       "    </tr>\n",
       "    <tr>\n",
       "      <th>4</th>\n",
       "      <td>000b8f95fcb9e0096488278317764d19</td>\n",
       "      <td>Wednesday</td>\n",
       "      <td>61143.0</td>\n",
       "    </tr>\n",
       "    <tr>\n",
       "      <th>...</th>\n",
       "      <td>...</td>\n",
       "      <td>...</td>\n",
       "      <td>...</td>\n",
       "    </tr>\n",
       "    <tr>\n",
       "      <th>61138</th>\n",
       "      <td>fff9553ac224cec9d15d49f5a263411f</td>\n",
       "      <td>Saturday</td>\n",
       "      <td>61143.0</td>\n",
       "    </tr>\n",
       "    <tr>\n",
       "      <th>61139</th>\n",
       "      <td>fffdb2d0ec8d6a61f0a0a0db3f25b441</td>\n",
       "      <td>Friday</td>\n",
       "      <td>61143.0</td>\n",
       "    </tr>\n",
       "    <tr>\n",
       "      <th>61140</th>\n",
       "      <td>fffdb2d0ec8d6a61f0a0a0db3f25b441</td>\n",
       "      <td>Thursday</td>\n",
       "      <td>61143.0</td>\n",
       "    </tr>\n",
       "    <tr>\n",
       "      <th>61141</th>\n",
       "      <td>fffdb2d0ec8d6a61f0a0a0db3f25b441</td>\n",
       "      <td>Tuesday</td>\n",
       "      <td>8606.0</td>\n",
       "    </tr>\n",
       "    <tr>\n",
       "      <th>61142</th>\n",
       "      <td>fffe9eeff12fcbd74a2f2b007dde0c58</td>\n",
       "      <td>Wednesday</td>\n",
       "      <td>61143.0</td>\n",
       "    </tr>\n",
       "  </tbody>\n",
       "</table>\n",
       "<p>61143 rows × 3 columns</p>\n",
       "</div>"
      ],
      "text/plain": [
       "                             product_id buying_day  order_id\n",
       "0      00066f42aeeb9f3007548bb9d3f33c38     Sunday   61143.0\n",
       "1      00088930e925c41fd95ebfe695fd2655    Tuesday   61143.0\n",
       "2      0009406fd7479715e4bef61dd91f2462     Friday   61143.0\n",
       "3      000b8f95fcb9e0096488278317764d19     Friday   61143.0\n",
       "4      000b8f95fcb9e0096488278317764d19  Wednesday   61143.0\n",
       "...                                 ...        ...       ...\n",
       "61138  fff9553ac224cec9d15d49f5a263411f   Saturday   61143.0\n",
       "61139  fffdb2d0ec8d6a61f0a0a0db3f25b441     Friday   61143.0\n",
       "61140  fffdb2d0ec8d6a61f0a0a0db3f25b441   Thursday   61143.0\n",
       "61141  fffdb2d0ec8d6a61f0a0a0db3f25b441    Tuesday    8606.0\n",
       "61142  fffe9eeff12fcbd74a2f2b007dde0c58  Wednesday   61143.0\n",
       "\n",
       "[61143 rows x 3 columns]"
      ]
     },
     "execution_count": 12,
     "metadata": {},
     "output_type": "execute_result"
    }
   ],
   "source": [
    "# В этой таблице указаны покупки всех товаров по всем дням недели\n",
    "all_sales_items"
   ]
  },
  {
   "cell_type": "code",
   "execution_count": 9,
   "metadata": {},
   "outputs": [
    {
     "data": {
      "text/html": [
       "<div>\n",
       "<style scoped>\n",
       "    .dataframe tbody tr th:only-of-type {\n",
       "        vertical-align: middle;\n",
       "    }\n",
       "\n",
       "    .dataframe tbody tr th {\n",
       "        vertical-align: top;\n",
       "    }\n",
       "\n",
       "    .dataframe thead th {\n",
       "        text-align: right;\n",
       "    }\n",
       "</style>\n",
       "<table border=\"1\" class=\"dataframe\">\n",
       "  <thead>\n",
       "    <tr style=\"text-align: right;\">\n",
       "      <th></th>\n",
       "      <th>order_id</th>\n",
       "      <th>buying_day</th>\n",
       "    </tr>\n",
       "    <tr>\n",
       "      <th>product_id</th>\n",
       "      <th></th>\n",
       "      <th></th>\n",
       "    </tr>\n",
       "  </thead>\n",
       "  <tbody>\n",
       "    <tr>\n",
       "      <th>00066f42aeeb9f3007548bb9d3f33c38</th>\n",
       "      <td>61143.0</td>\n",
       "      <td>Sunday</td>\n",
       "    </tr>\n",
       "    <tr>\n",
       "      <th>00088930e925c41fd95ebfe695fd2655</th>\n",
       "      <td>61143.0</td>\n",
       "      <td>Tuesday</td>\n",
       "    </tr>\n",
       "    <tr>\n",
       "      <th>0009406fd7479715e4bef61dd91f2462</th>\n",
       "      <td>61143.0</td>\n",
       "      <td>Friday</td>\n",
       "    </tr>\n",
       "    <tr>\n",
       "      <th>000b8f95fcb9e0096488278317764d19</th>\n",
       "      <td>61143.0</td>\n",
       "      <td>Wednesday</td>\n",
       "    </tr>\n",
       "    <tr>\n",
       "      <th>000d9be29b5207b54e86aa1b1ac54872</th>\n",
       "      <td>61143.0</td>\n",
       "      <td>Tuesday</td>\n",
       "    </tr>\n",
       "    <tr>\n",
       "      <th>...</th>\n",
       "      <td>...</td>\n",
       "      <td>...</td>\n",
       "    </tr>\n",
       "    <tr>\n",
       "      <th>fff6177642830a9a94a0f2cba5e476d1</th>\n",
       "      <td>61143.0</td>\n",
       "      <td>Saturday</td>\n",
       "    </tr>\n",
       "    <tr>\n",
       "      <th>fff81cc3158d2725c0655ab9ba0f712c</th>\n",
       "      <td>61143.0</td>\n",
       "      <td>Monday</td>\n",
       "    </tr>\n",
       "    <tr>\n",
       "      <th>fff9553ac224cec9d15d49f5a263411f</th>\n",
       "      <td>61143.0</td>\n",
       "      <td>Saturday</td>\n",
       "    </tr>\n",
       "    <tr>\n",
       "      <th>fffdb2d0ec8d6a61f0a0a0db3f25b441</th>\n",
       "      <td>61143.0</td>\n",
       "      <td>Tuesday</td>\n",
       "    </tr>\n",
       "    <tr>\n",
       "      <th>fffe9eeff12fcbd74a2f2b007dde0c58</th>\n",
       "      <td>61143.0</td>\n",
       "      <td>Wednesday</td>\n",
       "    </tr>\n",
       "  </tbody>\n",
       "</table>\n",
       "<p>32948 rows × 2 columns</p>\n",
       "</div>"
      ],
      "text/plain": [
       "                                  order_id buying_day\n",
       "product_id                                           \n",
       "00066f42aeeb9f3007548bb9d3f33c38   61143.0     Sunday\n",
       "00088930e925c41fd95ebfe695fd2655   61143.0    Tuesday\n",
       "0009406fd7479715e4bef61dd91f2462   61143.0     Friday\n",
       "000b8f95fcb9e0096488278317764d19   61143.0  Wednesday\n",
       "000d9be29b5207b54e86aa1b1ac54872   61143.0    Tuesday\n",
       "...                                    ...        ...\n",
       "fff6177642830a9a94a0f2cba5e476d1   61143.0   Saturday\n",
       "fff81cc3158d2725c0655ab9ba0f712c   61143.0     Monday\n",
       "fff9553ac224cec9d15d49f5a263411f   61143.0   Saturday\n",
       "fffdb2d0ec8d6a61f0a0a0db3f25b441   61143.0    Tuesday\n",
       "fffe9eeff12fcbd74a2f2b007dde0c58   61143.0  Wednesday\n",
       "\n",
       "[32948 rows x 2 columns]"
      ]
     },
     "execution_count": 9,
     "metadata": {},
     "output_type": "execute_result"
    }
   ],
   "source": [
    "# Отберем день недели по каждому товару,гдемауисмальное число покупок\n",
    "all_sales_items\\\n",
    "    .groupby (['product_id'])\\\n",
    "    .agg ({'order_id': 'max', \"buying_day\": \"max\"})"
   ]
  },
  {
   "cell_type": "code",
   "execution_count": 10,
   "metadata": {},
   "outputs": [],
   "source": [
    "# Ответ: Выше приведена таблица с данными по частоте покупок для каждго товара (с указанием дня недели)"
   ]
  }
 ],
 "metadata": {
  "kernelspec": {
   "display_name": "Python 3",
   "language": "python",
   "name": "python3"
  },
  "language_info": {
   "codemirror_mode": {
    "name": "ipython",
    "version": 3
   },
   "file_extension": ".py",
   "mimetype": "text/x-python",
   "name": "python",
   "nbconvert_exporter": "python",
   "pygments_lexer": "ipython3",
   "version": "3.7.3"
  }
 },
 "nbformat": 4,
 "nbformat_minor": 4
}
